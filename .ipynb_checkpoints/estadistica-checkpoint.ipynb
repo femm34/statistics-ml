{
 "cells": [
  {
   "cell_type": "markdown",
   "id": "d22a95b8-1990-4889-96c9-570815124aeb",
   "metadata": {},
   "source": [
    "# Estadística\n",
    "\n",
    "Rama de las matemáticas que se dedica a la recopilación, organización, análisis, interpretación  y representación de datos númericos. Su objetivo principal es extraer información significativa y útil de conjuntos de datos, lo que permite comprender fenómenos, tomar decisiones informadas y hacer predicciones."
   ]
  },
  {
   "cell_type": "markdown",
   "id": "0a81203a-0764-4917-9bb4-5e7d8d7aa348",
   "metadata": {},
   "source": [
    "### Descriptiva\n",
    "\n",
    "Sirve para describir caracteristicas de conjuntos de datos, sin hacer generalizaciones más allá de los datos observados.\n",
    "\n",
    "### Inferencial\n",
    "\n",
    "Utiliza los datos de muestra para hacer conclusiones, predicciones o generalizaciones sobre una población. \"A través de un grupo chiquitooo, podemos hacer predicciones de un grupo grande, con módelos matemáticos\"\n",
    "\n",
    "### Análisis exploratorio de datos\n",
    "\n",
    "Se basa en la estadistica descriptiva. Extraer las caracteristicas principales."
   ]
  },
  {
   "cell_type": "markdown",
   "id": "4d604ef8-971b-44f5-bb40-3b2cebb4b008",
   "metadata": {},
   "source": [
    "### Tipos de datos\n",
    "\n",
    "- Cualitativo: Categóricos (Así se le conoce en machine learning)\n",
    "- ⁠Cuantitativo: Representan una cantidad (Pulsaciones, Pasos)"
   ]
  },
  {
   "cell_type": "markdown",
   "id": "208a829a-20f2-4750-9a76-13406c066dc2",
   "metadata": {},
   "source": [
    "### Variables estadisticas.\n",
    "\n",
    "#### **Cualitativa:**\n",
    "Caracteristicas o **cualidades** que no pueden ser medidas con números.\n",
    "\n",
    "- Cualitativa **nominal**: No admite orden\n",
    "  - Ejemplos: color_preferido, estado_civil\n",
    "- Cualitativa **ordinal**: Admite Orden **(Pero no se refiere a orden número)**\n",
    "  - Ejemplos: excelente, bueno, deficiente.\n",
    "\n",
    "#### **Cuantitativa:** \n",
    "Se pueden expresar mediante un número y se pueden realizar operaciones con ellas.\n",
    "\n",
    "- Cuantitativa **discreta**: Toma un número finito de valores\n",
    "    - Ejemplos: Edad, número de hermanos, número de faltas.\n",
    "- Cuantitativa **continua**: Toma un número infinito de valores, puede tomar cualquier valor dentro de un rango, incluso con decimales infinitamente precisos. No se limita a números enteros.\n",
    "    - Ejemplos: La estatura de una persona, medida en metros (por ejemplo: 1.72 m, 1.685 m, etc.).\n",
    "\n",
    " "
   ]
  },
  {
   "cell_type": "code",
   "execution_count": null,
   "id": "11d8f22d-38a7-4163-b679-63022e66c497",
   "metadata": {},
   "outputs": [],
   "source": []
  }
 ],
 "metadata": {
  "kernelspec": {
   "display_name": "Python 3 (ipykernel)",
   "language": "python",
   "name": "python3"
  },
  "language_info": {
   "codemirror_mode": {
    "name": "ipython",
    "version": 3
   },
   "file_extension": ".py",
   "mimetype": "text/x-python",
   "name": "python",
   "nbconvert_exporter": "python",
   "pygments_lexer": "ipython3",
   "version": "3.13.4"
  }
 },
 "nbformat": 4,
 "nbformat_minor": 5
}
