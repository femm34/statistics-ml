{
 "cells": [
  {
   "cell_type": "markdown",
   "id": "d22a95b8-1990-4889-96c9-570815124aeb",
   "metadata": {},
   "source": [
    "# Estadística\n",
    "\n",
    "Rama de las matemáticas que se dedica a la recopilación, organización, análisis, interpretación  y representación de datos númericos. Su objetivo principal es extraer información significativa y útil de conjuntos de datos, lo que permite comprender fenómenos, tomar decisiones informadas y hacer predicciones."
   ]
  },
  {
   "cell_type": "markdown",
   "id": "0a81203a-0764-4917-9bb4-5e7d8d7aa348",
   "metadata": {},
   "source": [
    "### Descriptiva\n",
    "\n",
    "Sirve para describir caracteristicas de conjuntos de datos, sin hacer generalizaciones más allá de los datos observados.\n",
    "\n",
    "### Inferencial\n",
    "\n",
    "Utiliza los datos de muestra para hacer conclusiones, predicciones o generalizaciones sobre una población. \"A través de un grupo chiquitooo, podemos hacer predicciones de un grupo grande, con módelos matemáticos\"\n",
    "\n",
    "### Análisis exploratorio de datos\n",
    "\n",
    "Se basa en la estadistica descriptiva. Extraer las caracteristicas principales."
   ]
  },
  {
   "cell_type": "markdown",
   "id": "4d604ef8-971b-44f5-bb40-3b2cebb4b008",
   "metadata": {},
   "source": [
    "### Tipos de datos\n",
    "\n",
    "- Cualitativo: Categóricos (Así se le conoce en machine learning)\n",
    "- ⁠Cuantitativo: Representan una cantidad (Pulsaciones, Pasos)"
   ]
  },
  {
   "cell_type": "markdown",
   "id": "208a829a-20f2-4750-9a76-13406c066dc2",
   "metadata": {},
   "source": [
    "### Variables estadisticas.\n",
    "\n",
    "#### **Cualitativa:**\n",
    "Caracteristicas o **cualidades** que no pueden ser medidas con números.\n",
    "\n",
    "- Cualitativa **nominal**: No admite orden\n",
    "  - Ejemplos: color_preferido, estado_civil\n",
    "- Cualitativa **ordinal**: Admite Orden **(Pero no se refiere a orden número)**\n",
    "  - Ejemplos: excelente, bueno, deficiente.\n",
    "\n",
    "#### **Cuantitativa:** \n",
    "Se pueden expresar mediante un número y se pueden realizar operaciones con ellas.\n",
    "\n",
    "- Cuantitativa **discreta**: Toma un número finito de valores\n",
    "    - Ejemplos: Edad, número de hermanos, número de faltas.\n",
    "- Cuantitativa **continua**: Toma un número infinito de valores, puede tomar cualquier valor dentro de un rango, incluso con decimales infinitamente precisos. No se limita a números enteros.\n",
    "    - Ejemplos: La estatura de una persona, medida en metros (por ejemplo: 1.72 m, 1.685 m, etc.). "
   ]
  },
  {
   "cell_type": "markdown",
   "id": "ac8cb158-e542-4562-b2e9-e4567639006e",
   "metadata": {},
   "source": [
    "#### Organización y presentación de datos\n",
    "Tablas: Excel, CSV, SQL"
   ]
  },
  {
   "cell_type": "code",
   "execution_count": 40,
   "id": "9c7fca81-6176-44c2-8eb0-91b74d3c3b85",
   "metadata": {},
   "outputs": [
    {
     "data": {
      "text/html": [
       "<div>\n",
       "<style scoped>\n",
       "    .dataframe tbody tr th:only-of-type {\n",
       "        vertical-align: middle;\n",
       "    }\n",
       "\n",
       "    .dataframe tbody tr th {\n",
       "        vertical-align: top;\n",
       "    }\n",
       "\n",
       "    .dataframe thead th {\n",
       "        text-align: right;\n",
       "    }\n",
       "</style>\n",
       "<table border=\"1\" class=\"dataframe\">\n",
       "  <thead>\n",
       "    <tr style=\"text-align: right;\">\n",
       "      <th></th>\n",
       "      <th>genres</th>\n",
       "      <th>genre_id</th>\n",
       "      <th>frequency</th>\n",
       "    </tr>\n",
       "  </thead>\n",
       "  <tbody>\n",
       "    <tr>\n",
       "      <th>0</th>\n",
       "      <td>Male</td>\n",
       "      <td>1</td>\n",
       "      <td>900</td>\n",
       "    </tr>\n",
       "    <tr>\n",
       "      <th>1</th>\n",
       "      <td>Female</td>\n",
       "      <td>2</td>\n",
       "      <td>788</td>\n",
       "    </tr>\n",
       "    <tr>\n",
       "      <th>2</th>\n",
       "      <td>Other</td>\n",
       "      <td>3</td>\n",
       "      <td>120</td>\n",
       "    </tr>\n",
       "  </tbody>\n",
       "</table>\n",
       "</div>"
      ],
      "text/plain": [
       "   genres  genre_id  frequency\n",
       "0    Male         1        900\n",
       "1  Female         2        788\n",
       "2   Other         3        120"
      ]
     },
     "execution_count": 40,
     "metadata": {},
     "output_type": "execute_result"
    }
   ],
   "source": [
    "import pandas as pd\n",
    "\n",
    "bin_set = {'genres':['Male','Female','Other'],'genre_id':[1,2,3],'frequency':[900,788,120]}\n",
    "pd.DataFrame(data=bin_set)"
   ]
  },
  {
   "cell_type": "markdown",
   "id": "d033272e-096c-4870-bfcf-ce95ae320a19",
   "metadata": {},
   "source": [
    "#### Cloud data set"
   ]
  },
  {
   "cell_type": "code",
   "execution_count": 17,
   "id": "4dc37159-1635-4b62-9959-fbd6d60b60ac",
   "metadata": {},
   "outputs": [
    {
     "data": {
      "text/html": [
       "<div>\n",
       "<style scoped>\n",
       "    .dataframe tbody tr th:only-of-type {\n",
       "        vertical-align: middle;\n",
       "    }\n",
       "\n",
       "    .dataframe tbody tr th {\n",
       "        vertical-align: top;\n",
       "    }\n",
       "\n",
       "    .dataframe thead th {\n",
       "        text-align: right;\n",
       "    }\n",
       "</style>\n",
       "<table border=\"1\" class=\"dataframe\">\n",
       "  <thead>\n",
       "    <tr style=\"text-align: right;\">\n",
       "      <th></th>\n",
       "      <th>pclass</th>\n",
       "      <th>name</th>\n",
       "      <th>sex</th>\n",
       "      <th>age</th>\n",
       "      <th>sibsp</th>\n",
       "      <th>parch</th>\n",
       "      <th>ticket</th>\n",
       "      <th>fare</th>\n",
       "      <th>cabin</th>\n",
       "      <th>embarked</th>\n",
       "      <th>boat</th>\n",
       "      <th>body</th>\n",
       "      <th>home.dest</th>\n",
       "    </tr>\n",
       "  </thead>\n",
       "  <tbody>\n",
       "    <tr>\n",
       "      <th>0</th>\n",
       "      <td>1</td>\n",
       "      <td>Allen, Miss. Elisabeth Walton</td>\n",
       "      <td>female</td>\n",
       "      <td>29.0000</td>\n",
       "      <td>0</td>\n",
       "      <td>0</td>\n",
       "      <td>24160</td>\n",
       "      <td>211.3375</td>\n",
       "      <td>B5</td>\n",
       "      <td>S</td>\n",
       "      <td>2</td>\n",
       "      <td>NaN</td>\n",
       "      <td>St Louis, MO</td>\n",
       "    </tr>\n",
       "    <tr>\n",
       "      <th>1</th>\n",
       "      <td>1</td>\n",
       "      <td>Allison, Master. Hudson Trevor</td>\n",
       "      <td>male</td>\n",
       "      <td>0.9167</td>\n",
       "      <td>1</td>\n",
       "      <td>2</td>\n",
       "      <td>113781</td>\n",
       "      <td>151.5500</td>\n",
       "      <td>C22 C26</td>\n",
       "      <td>S</td>\n",
       "      <td>11</td>\n",
       "      <td>NaN</td>\n",
       "      <td>Montreal, PQ / Chesterville, ON</td>\n",
       "    </tr>\n",
       "    <tr>\n",
       "      <th>2</th>\n",
       "      <td>1</td>\n",
       "      <td>Allison, Miss. Helen Loraine</td>\n",
       "      <td>female</td>\n",
       "      <td>2.0000</td>\n",
       "      <td>1</td>\n",
       "      <td>2</td>\n",
       "      <td>113781</td>\n",
       "      <td>151.5500</td>\n",
       "      <td>C22 C26</td>\n",
       "      <td>S</td>\n",
       "      <td>NaN</td>\n",
       "      <td>NaN</td>\n",
       "      <td>Montreal, PQ / Chesterville, ON</td>\n",
       "    </tr>\n",
       "    <tr>\n",
       "      <th>3</th>\n",
       "      <td>1</td>\n",
       "      <td>Allison, Mr. Hudson Joshua Creighton</td>\n",
       "      <td>male</td>\n",
       "      <td>30.0000</td>\n",
       "      <td>1</td>\n",
       "      <td>2</td>\n",
       "      <td>113781</td>\n",
       "      <td>151.5500</td>\n",
       "      <td>C22 C26</td>\n",
       "      <td>S</td>\n",
       "      <td>NaN</td>\n",
       "      <td>135.0</td>\n",
       "      <td>Montreal, PQ / Chesterville, ON</td>\n",
       "    </tr>\n",
       "    <tr>\n",
       "      <th>4</th>\n",
       "      <td>1</td>\n",
       "      <td>Allison, Mrs. Hudson J C (Bessie Waldo Daniels)</td>\n",
       "      <td>female</td>\n",
       "      <td>25.0000</td>\n",
       "      <td>1</td>\n",
       "      <td>2</td>\n",
       "      <td>113781</td>\n",
       "      <td>151.5500</td>\n",
       "      <td>C22 C26</td>\n",
       "      <td>S</td>\n",
       "      <td>NaN</td>\n",
       "      <td>NaN</td>\n",
       "      <td>Montreal, PQ / Chesterville, ON</td>\n",
       "    </tr>\n",
       "  </tbody>\n",
       "</table>\n",
       "</div>"
      ],
      "text/plain": [
       "   pclass                                             name     sex      age  \\\n",
       "0       1                    Allen, Miss. Elisabeth Walton  female  29.0000   \n",
       "1       1                   Allison, Master. Hudson Trevor    male   0.9167   \n",
       "2       1                     Allison, Miss. Helen Loraine  female   2.0000   \n",
       "3       1             Allison, Mr. Hudson Joshua Creighton    male  30.0000   \n",
       "4       1  Allison, Mrs. Hudson J C (Bessie Waldo Daniels)  female  25.0000   \n",
       "\n",
       "   sibsp  parch  ticket      fare    cabin embarked boat   body  \\\n",
       "0      0      0   24160  211.3375       B5        S    2    NaN   \n",
       "1      1      2  113781  151.5500  C22 C26        S   11    NaN   \n",
       "2      1      2  113781  151.5500  C22 C26        S  NaN    NaN   \n",
       "3      1      2  113781  151.5500  C22 C26        S  NaN  135.0   \n",
       "4      1      2  113781  151.5500  C22 C26        S  NaN    NaN   \n",
       "\n",
       "                         home.dest  \n",
       "0                     St Louis, MO  \n",
       "1  Montreal, PQ / Chesterville, ON  \n",
       "2  Montreal, PQ / Chesterville, ON  \n",
       "3  Montreal, PQ / Chesterville, ON  \n",
       "4  Montreal, PQ / Chesterville, ON  "
      ]
     },
     "execution_count": 17,
     "metadata": {},
     "output_type": "execute_result"
    }
   ],
   "source": [
    "from sklearn.datasets import fetch_openml\n",
    "\n",
    "titanic_dataset = fetch_openml('titanic', version=1, as_frame=True)\n",
    "\n",
    "pd.DataFrame(data=titanic_dataset['data']).head()"
   ]
  },
  {
   "cell_type": "code",
   "execution_count": 20,
   "id": "675cf9f6-b714-4816-b289-d039f0912315",
   "metadata": {},
   "outputs": [
    {
     "data": {
      "text/html": [
       "<div>\n",
       "<style scoped>\n",
       "    .dataframe tbody tr th:only-of-type {\n",
       "        vertical-align: middle;\n",
       "    }\n",
       "\n",
       "    .dataframe tbody tr th {\n",
       "        vertical-align: top;\n",
       "    }\n",
       "\n",
       "    .dataframe thead th {\n",
       "        text-align: right;\n",
       "    }\n",
       "</style>\n",
       "<table border=\"1\" class=\"dataframe\">\n",
       "  <thead>\n",
       "    <tr style=\"text-align: right;\">\n",
       "      <th></th>\n",
       "      <th>0</th>\n",
       "      <th>1</th>\n",
       "      <th>2</th>\n",
       "      <th>3</th>\n",
       "    </tr>\n",
       "  </thead>\n",
       "  <tbody>\n",
       "    <tr>\n",
       "      <th>0</th>\n",
       "      <td>5.1</td>\n",
       "      <td>3.5</td>\n",
       "      <td>1.4</td>\n",
       "      <td>0.2</td>\n",
       "    </tr>\n",
       "    <tr>\n",
       "      <th>1</th>\n",
       "      <td>4.9</td>\n",
       "      <td>3.0</td>\n",
       "      <td>1.4</td>\n",
       "      <td>0.2</td>\n",
       "    </tr>\n",
       "    <tr>\n",
       "      <th>2</th>\n",
       "      <td>4.7</td>\n",
       "      <td>3.2</td>\n",
       "      <td>1.3</td>\n",
       "      <td>0.2</td>\n",
       "    </tr>\n",
       "    <tr>\n",
       "      <th>3</th>\n",
       "      <td>4.6</td>\n",
       "      <td>3.1</td>\n",
       "      <td>1.5</td>\n",
       "      <td>0.2</td>\n",
       "    </tr>\n",
       "    <tr>\n",
       "      <th>4</th>\n",
       "      <td>5.0</td>\n",
       "      <td>3.6</td>\n",
       "      <td>1.4</td>\n",
       "      <td>0.2</td>\n",
       "    </tr>\n",
       "  </tbody>\n",
       "</table>\n",
       "</div>"
      ],
      "text/plain": [
       "     0    1    2    3\n",
       "0  5.1  3.5  1.4  0.2\n",
       "1  4.9  3.0  1.4  0.2\n",
       "2  4.7  3.2  1.3  0.2\n",
       "3  4.6  3.1  1.5  0.2\n",
       "4  5.0  3.6  1.4  0.2"
      ]
     },
     "execution_count": 20,
     "metadata": {},
     "output_type": "execute_result"
    }
   ],
   "source": [
    "from sklearn import datasets\n",
    "\n",
    "iris_set = datasets.load_iris()\n",
    "\n",
    "pd.DataFrame(data=iris_set['data']).head()\n"
   ]
  },
  {
   "cell_type": "markdown",
   "id": "d827a076-089e-45f0-83f8-c91759c139e3",
   "metadata": {},
   "source": [
    "### Graficas lineales\n",
    "\n",
    "Se utilizan para representar valores de dos variables cuantitativas utilizando coordenadas cartesianas, también es útil para representar una variable categorica respecto a una cuantitativa."
   ]
  },
  {
   "cell_type": "code",
   "execution_count": 38,
   "id": "58dab1af-d78d-463e-9350-f0f7e0edef76",
   "metadata": {},
   "outputs": [
    {
     "data": {
      "text/plain": [
       "[<matplotlib.lines.Line2D at 0x11d584f50>]"
      ]
     },
     "execution_count": 38,
     "metadata": {},
     "output_type": "execute_result"
    },
    {
     "data": {
      "image/png": "[encoded data removed]",
      "text/plain": [
       "<Figure size 640x480 with 1 Axes>"
      ]
     },
     "metadata": {},
     "output_type": "display_data"
    }
   ],
   "source": [
    "import matplotlib.pyplot as plt\n",
    "\n",
    "fix,ax = plt.subplots()\n",
    "days = [\"Monday\", \"Tuesday\", \"Wendnesday\", \"Thursday\", \"Friday\", \"Saturday\", \"Sunday\"]\n",
    "temperatures = {'zacualtipan':[18,20,15,5,8,10,19],'huejutla':[20,30,34,35,39,25,34]}\n",
    "\n",
    "ax.plot(days, temperatures['zacualtipan'], color=\"tab:red\", label='zacualtipan')\n",
    "ax.plot(days, temperatures['huejutla'], color=\"tab:purple\", label='zacualtipan')\n"
   ]
  },
  {
   "cell_type": "code",
   "execution_count": 39,
   "id": "80cdb5a0-0125-430f-a61b-31b9b55b1036",
   "metadata": {},
   "outputs": [
    {
     "data": {
      "text/plain": [
       "<matplotlib.legend.Legend at 0x11d610690>"
      ]
     },
     "execution_count": 39,
     "metadata": {},
     "output_type": "execute_result"
    },
    {
     "data": {
      "image/png": "[encoded data removed]",
      "text/plain": [
       "<Figure size 640x480 with 1 Axes>"
      ]
     },
     "metadata": {},
     "output_type": "display_data"
    }
   ],
   "source": [
    "fig_dos, ax_dos = plt.subplots()\n",
    "\n",
    "ax_dos.bar(days,temperatures['huejutla'],label=\"huejutla\")\n",
    "ax_dos.bar(days,temperatures['zacualtipan'], label=\"zacualtipan\")\n",
    "plt.legend(loc='best')"
   ]
  },
  {
   "cell_type": "markdown",
   "id": "ece05a29-c958-43aa-8c54-68e7e7b7188c",
   "metadata": {},
   "source": [
    "### Distribución de frecuencias\n",
    "Es la relación entre los valores de una variable y la cantidad de veces que se repiten en un conjunto de datos.\n"
   ]
  },
  {
   "cell_type": "code",
   "execution_count": 41,
   "id": "81d1f77d-ac5f-4edd-85d7-0bbe0b09ac92",
   "metadata": {},
   "outputs": [
    {
     "data": {
      "image/png": "[encoded data removed]",
      "text/plain": [
       "<Figure size 640x480 with 1 Axes>"
      ]
     },
     "metadata": {},
     "output_type": "display_data"
    }
   ],
   "source": [
    "fig_tres, ax_tres = plt.subplots()\n",
    "\n",
    "ax_tres.bar(bin_set['genres'], bin_set['frequency'])\n",
    "\n",
    "plt.show()\n"
   ]
  },
  {
   "cell_type": "markdown",
   "id": "af05391c-ee33-4c25-83b5-aa3268f2dad9",
   "metadata": {},
   "source": [
    "### Medidas de tendencia central\n",
    "- Media aritmética: Promedio. Se obtiene como la suma de un conjunto de valores dividido entre el número total de elementos.\n",
    "- Mediana\n",
    "- Moda\n",
    "- Media recortada\n",
    "- Media ponderada"
   ]
  },
  {
   "cell_type": "code",
   "execution_count": 7,
   "id": "83bdba66-92e8-460a-bddb-4a31ed6ae67c",
   "metadata": {},
   "outputs": [
    {
     "data": {
      "text/html": [
       "<div>\n",
       "<style scoped>\n",
       "    .dataframe tbody tr th:only-of-type {\n",
       "        vertical-align: middle;\n",
       "    }\n",
       "\n",
       "    .dataframe tbody tr th {\n",
       "        vertical-align: top;\n",
       "    }\n",
       "\n",
       "    .dataframe thead th {\n",
       "        text-align: right;\n",
       "    }\n",
       "</style>\n",
       "<table border=\"1\" class=\"dataframe\">\n",
       "  <thead>\n",
       "    <tr style=\"text-align: right;\">\n",
       "      <th></th>\n",
       "      <th>post_id</th>\n",
       "      <th>platform</th>\n",
       "      <th>post_type</th>\n",
       "      <th>post_time</th>\n",
       "      <th>likes</th>\n",
       "      <th>comments</th>\n",
       "      <th>shares</th>\n",
       "      <th>post_day</th>\n",
       "      <th>sentiment_score</th>\n",
       "    </tr>\n",
       "  </thead>\n",
       "  <tbody>\n",
       "    <tr>\n",
       "      <th>0</th>\n",
       "      <td>1</td>\n",
       "      <td>Facebook</td>\n",
       "      <td>image</td>\n",
       "      <td>8/17/2023 14:45</td>\n",
       "      <td>2121</td>\n",
       "      <td>474</td>\n",
       "      <td>628</td>\n",
       "      <td>Thursday</td>\n",
       "      <td>positive</td>\n",
       "    </tr>\n",
       "    <tr>\n",
       "      <th>1</th>\n",
       "      <td>2</td>\n",
       "      <td>Facebook</td>\n",
       "      <td>carousel</td>\n",
       "      <td>5/14/2023 0:45</td>\n",
       "      <td>3660</td>\n",
       "      <td>432</td>\n",
       "      <td>694</td>\n",
       "      <td>Sunday</td>\n",
       "      <td>neutral</td>\n",
       "    </tr>\n",
       "    <tr>\n",
       "      <th>2</th>\n",
       "      <td>3</td>\n",
       "      <td>Instagram</td>\n",
       "      <td>poll</td>\n",
       "      <td>2/21/2023 16:15</td>\n",
       "      <td>4955</td>\n",
       "      <td>408</td>\n",
       "      <td>688</td>\n",
       "      <td>Tuesday</td>\n",
       "      <td>negative</td>\n",
       "    </tr>\n",
       "    <tr>\n",
       "      <th>3</th>\n",
       "      <td>4</td>\n",
       "      <td>Twitter</td>\n",
       "      <td>image</td>\n",
       "      <td>11/16/2023 0:45</td>\n",
       "      <td>1183</td>\n",
       "      <td>90</td>\n",
       "      <td>187</td>\n",
       "      <td>Thursday</td>\n",
       "      <td>negative</td>\n",
       "    </tr>\n",
       "    <tr>\n",
       "      <th>4</th>\n",
       "      <td>5</td>\n",
       "      <td>Twitter</td>\n",
       "      <td>video</td>\n",
       "      <td>5/23/2023 0:30</td>\n",
       "      <td>3499</td>\n",
       "      <td>247</td>\n",
       "      <td>286</td>\n",
       "      <td>Tuesday</td>\n",
       "      <td>positive</td>\n",
       "    </tr>\n",
       "    <tr>\n",
       "      <th>...</th>\n",
       "      <td>...</td>\n",
       "      <td>...</td>\n",
       "      <td>...</td>\n",
       "      <td>...</td>\n",
       "      <td>...</td>\n",
       "      <td>...</td>\n",
       "      <td>...</td>\n",
       "      <td>...</td>\n",
       "      <td>...</td>\n",
       "    </tr>\n",
       "    <tr>\n",
       "      <th>95</th>\n",
       "      <td>96</td>\n",
       "      <td>Instagram</td>\n",
       "      <td>carousel</td>\n",
       "      <td>7/12/2023 17:45</td>\n",
       "      <td>36</td>\n",
       "      <td>294</td>\n",
       "      <td>911</td>\n",
       "      <td>Wednesday</td>\n",
       "      <td>positive</td>\n",
       "    </tr>\n",
       "    <tr>\n",
       "      <th>96</th>\n",
       "      <td>97</td>\n",
       "      <td>Twitter</td>\n",
       "      <td>video</td>\n",
       "      <td>10/27/2023 23:45</td>\n",
       "      <td>314</td>\n",
       "      <td>108</td>\n",
       "      <td>458</td>\n",
       "      <td>Friday</td>\n",
       "      <td>neutral</td>\n",
       "    </tr>\n",
       "    <tr>\n",
       "      <th>97</th>\n",
       "      <td>98</td>\n",
       "      <td>Twitter</td>\n",
       "      <td>text</td>\n",
       "      <td>8/5/2023 8:45</td>\n",
       "      <td>229</td>\n",
       "      <td>179</td>\n",
       "      <td>38</td>\n",
       "      <td>Saturday</td>\n",
       "      <td>positive</td>\n",
       "    </tr>\n",
       "    <tr>\n",
       "      <th>98</th>\n",
       "      <td>99</td>\n",
       "      <td>Instagram</td>\n",
       "      <td>poll</td>\n",
       "      <td>12/29/2023 12:15</td>\n",
       "      <td>5000</td>\n",
       "      <td>500</td>\n",
       "      <td>204</td>\n",
       "      <td>Friday</td>\n",
       "      <td>positive</td>\n",
       "    </tr>\n",
       "    <tr>\n",
       "      <th>99</th>\n",
       "      <td>100</td>\n",
       "      <td>Instagram</td>\n",
       "      <td>image</td>\n",
       "      <td>6/6/2023 21:00</td>\n",
       "      <td>4483</td>\n",
       "      <td>357</td>\n",
       "      <td>25</td>\n",
       "      <td>Tuesday</td>\n",
       "      <td>neutral</td>\n",
       "    </tr>\n",
       "  </tbody>\n",
       "</table>\n",
       "<p>100 rows × 9 columns</p>\n",
       "</div>"
      ],
      "text/plain": [
       "    post_id   platform post_type         post_time  likes  comments  shares  \\\n",
       "0         1   Facebook     image   8/17/2023 14:45   2121       474     628   \n",
       "1         2   Facebook  carousel    5/14/2023 0:45   3660       432     694   \n",
       "2         3  Instagram      poll   2/21/2023 16:15   4955       408     688   \n",
       "3         4    Twitter     image   11/16/2023 0:45   1183        90     187   \n",
       "4         5    Twitter     video    5/23/2023 0:30   3499       247     286   \n",
       "..      ...        ...       ...               ...    ...       ...     ...   \n",
       "95       96  Instagram  carousel   7/12/2023 17:45     36       294     911   \n",
       "96       97    Twitter     video  10/27/2023 23:45    314       108     458   \n",
       "97       98    Twitter      text     8/5/2023 8:45    229       179      38   \n",
       "98       99  Instagram      poll  12/29/2023 12:15   5000       500     204   \n",
       "99      100  Instagram     image    6/6/2023 21:00   4483       357      25   \n",
       "\n",
       "     post_day sentiment_score  \n",
       "0    Thursday        positive  \n",
       "1      Sunday         neutral  \n",
       "2     Tuesday        negative  \n",
       "3    Thursday        negative  \n",
       "4     Tuesday        positive  \n",
       "..        ...             ...  \n",
       "95  Wednesday        positive  \n",
       "96     Friday         neutral  \n",
       "97   Saturday        positive  \n",
       "98     Friday        positive  \n",
       "99    Tuesday         neutral  \n",
       "\n",
       "[100 rows x 9 columns]"
      ]
     },
     "execution_count": 7,
     "metadata": {},
     "output_type": "execute_result"
    }
   ],
   "source": [
    "import pandas as pd\n",
    "\n",
    "csv_dataset = pd.read_csv('../../Downloads/social_media_engagement1.csv')\n",
    "csv_dataset"
   ]
  },
  {
   "cell_type": "code",
   "execution_count": 10,
   "id": "ea29b626-6835-4bb9-b2e8-0bd0ab36aa12",
   "metadata": {},
   "outputs": [
    {
     "name": "stdout",
     "output_type": "stream",
     "text": [
      "mean:  415.65\n",
      "mean:  356.5\n"
     ]
    }
   ],
   "source": [
    "print(\"mean: \", csv_dataset['shares'].mean())\n",
    "print(\"mean: \", csv_dataset['shares'].median())"
   ]
  },
  {
   "cell_type": "markdown",
   "id": "c0a1abab-1262-40d6-b857-915d73930ac6",
   "metadata": {},
   "source": [
    "### Moda\n",
    "Valor que más se repite en un conjunto de datos. El conjunto de datos puede ser unimodal, bimodal o polimodal."
   ]
  },
  {
   "cell_type": "markdown",
   "id": "63d827ec-aab3-4d5d-85ea-240e2419a3a1",
   "metadata": {},
   "source": [
    "### Media recortada\n",
    "La media recortada (Truncada) sirve para remover un porcentaje específico de valores atipicos o outliers ya que estos pueden afectar a la media. Por la diferencia entre los extremos"
   ]
  },
  {
   "cell_type": "markdown",
   "id": "9eab2521-2098-4e1b-b610-85610fab2590",
   "metadata": {},
   "source": [
    "##### Ejemplo\n",
    "Set de datos (Orden ascendente, obligatorio***): [1, 2, 3, 4, 5, 6, 7, 8, 9,10,11,12,13,14,15,16,100], eliminar 10% de cada extremo\n",
    "\n",
    "Son 17 elementos, el 10% de 17 es 1.7, así que redondeamos hacia abajo -> IMPORTANTE: En estadística, para la media recortada se usa redondeo hacia abajo!!!!\n",
    "\n",
    "Quitamos un elemento de cada extremo.\n",
    "\n",
    "Resultado: [2, 3, 4, 5, 6, 7, 8, 9, 10, 11, 12, 13, 14, 15, 16]"
   ]
  }
 ],
 "metadata": {
  "kernelspec": {
   "display_name": "Python 3 (ipykernel)",
   "language": "python",
   "name": "python3"
  },
  "language_info": {
   "codemirror_mode": {
    "name": "ipython",
    "version": 3
   },
   "file_extension": ".py",
   "mimetype": "text/x-python",
   "name": "python",
   "nbconvert_exporter": "python",
   "pygments_lexer": "ipython3",
   "version": "3.13.4"
  }
 },
 "nbformat": 4,
 "nbformat_minor": 5
}
