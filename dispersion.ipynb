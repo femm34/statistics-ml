{
 "cells": [
  {
   "cell_type": "markdown",
   "id": "3021ee6a-d1f3-4b60-8227-5e8938d0e941",
   "metadata": {},
   "source": [
    "# Dependencies:\n",
    "Necessary dependencies: !pip install pandas numpy matplotlib statistics scipy"
   ]
  },
  {
   "cell_type": "code",
   "execution_count": 25,
   "id": "f372c508-131a-480d-9ce3-716a5cf4bd51",
   "metadata": {},
   "outputs": [],
   "source": [
    "import statistics\n",
    "import pandas as pd\n",
    "import matplotlib.pyplot as plt\n",
    "from scipy.stats import norm\n",
    "import math"
   ]
  },
  {
   "cell_type": "markdown",
   "id": "cf05e44e-6a3d-40b9-95b0-a18bd0096b21",
   "metadata": {},
   "source": [
    "# Medidas de variabilidad o dispersión:\n",
    "Estadísticas que cuantifican qué tan esparcidos o dispersos están los datos respecto a su valor central (media, mediana, moda). Indican si los valores están agrupados cerca del centro o si están muy distribuidos.\n",
    "\n",
    "Algunas son: Varianza, Rango, Desviación estándar, coeficiente de variación, Rango intercuartílico, Desviación absoluta media.\n",
    "- **Varianza:** Mide que tan dispersos están los datos respecto a la media. Formula -> **σ² = Σ(xi - μ)² / N**\n",
    "- **Rango:** Indica que tan extendidos están los datos entre su valor más alto y más bajo. Formula -> **R = Xmax - Xmin**\n",
    "- **Desviación estándar:** La desviación estándar es la raíz cuadrada de la varianza. Es una medida de dispersión que indica qué tan alejados están los datos de su media, expresada en las mismas unidades que los datos originales.\n",
    "- **Coeficiente de variación:** Medida de dispersión relativa que expresa la desviación estándar como porcentaje de la media.\n",
    "- **Rango intercuartílico:** El rango intercuartílico es una medida de dispersión que indica la amplitud del 50% central de los datos. Es la distancia entre el primer cuartil (Q1) y el tercer cuartil (Q3).\n",
    "- **Desviación absoluta media:** Es una medida de dispersión que calcula el promedio de las distancias absolutas entre cada dato y la media. Es una alternativa más robusta a la desviación estándar."
   ]
  },
  {
   "cell_type": "code",
   "execution_count": 41,
   "id": "4f0fa4b3-3d52-4b32-b3af-0d34fcd4f9d2",
   "metadata": {},
   "outputs": [
    {
     "name": "stdout",
     "output_type": "stream",
     "text": [
      "Mean: 33.714285714285715\n",
      "--------------------------------------------\n",
      "Population variance 2022.7755102040815\n",
      "Population STD: 44.975276655114435\n",
      "--------------------------------------------\n",
      "Sample variance 2359.904761904762\n",
      "Sample STD: 48.57885097349218\n"
     ]
    }
   ],
   "source": [
    "## Calculando la varianza\n",
    "data = [4,5,1,7,98,10,111]\n",
    "mean = statistics.mean(data)\n",
    "new_data = list(map(lambda d: (d-mean)**2, data)) #  Σ(xi - μ)²\n",
    "pop_variance = sum(new_data) / (len(data))\n",
    "sample_variance = sum(new_data) / (len(data) - 1)\n",
    "\n",
    "print(f\"Mean: {mean}\")\n",
    "print(\"--------------------------------------------\")\n",
    "print(f\"Population variance {pop_variance}\")\n",
    "print(f\"Population STD: {math.sqrt(pop_variance)}\")\n",
    "print(\"--------------------------------------------\")\n",
    "print(f\"Sample variance {sample_variance}\")\n",
    "print(f\"Sample STD: {math.sqrt(sample_variance)}\")\n",
    "\n"
   ]
  },
  {
   "cell_type": "markdown",
   "id": "83318acd-01fd-49a3-9918-9745da963104",
   "metadata": {},
   "source": [
    "## Gráfica"
   ]
  },
  {
   "cell_type": "code",
   "execution_count": 50,
   "id": "20bec6e4-2881-416b-8d70-9b69b7420ba5",
   "metadata": {},
   "outputs": [
    {
     "data": {
      "text/plain": [
       "<matplotlib.lines.Line2D at 0x13671d1d0>"
      ]
     },
     "execution_count": 50,
     "metadata": {},
     "output_type": "execute_result"
    },
    {
     "data": {
      "image/png": "[encoded data removed]",
      "text/plain": [
       "<Figure size 640x480 with 1 Axes>"
      ]
     },
     "metadata": {},
     "output_type": "display_data"
    }
   ],
   "source": [
    "plt.hist(data, range(min(data),max(data)+1), color=\"red\")\n",
    "plt.title(\"Histograma\")\n",
    "plt.ylabel(\"Frecuencia\")\n",
    "plt.xlabel(\"Data\")\n",
    "plt.axhline(y=mean, color='r', linestyle='-')"
   ]
  },
  {
   "cell_type": "markdown",
   "id": "f7d874ff-3f50-453c-b7dd-9ef44b49f712",
   "metadata": {},
   "source": [
    "##### La media definitivamente no representa al conjunto de datos ;c, ya que se tiene una desviación estándar muestral de: 48.57885097349218 unidades"
   ]
  },
  {
   "cell_type": "code",
   "execution_count": null,
   "id": "9205445f-ef81-46df-9efc-a3faf353fcea",
   "metadata": {},
   "outputs": [],
   "source": []
  }
 ],
 "metadata": {
  "kernelspec": {
   "display_name": "Python 3 (ipykernel)",
   "language": "python",
   "name": "python3"
  },
  "language_info": {
   "codemirror_mode": {
    "name": "ipython",
    "version": 3
   },
   "file_extension": ".py",
   "mimetype": "text/x-python",
   "name": "python",
   "nbconvert_exporter": "python",
   "pygments_lexer": "ipython3",
   "version": "3.13.4"
  }
 },
 "nbformat": 4,
 "nbformat_minor": 5
}
